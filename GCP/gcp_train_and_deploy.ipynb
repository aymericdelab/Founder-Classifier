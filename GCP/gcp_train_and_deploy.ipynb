{
 "cells": [
  {
   "cell_type": "markdown",
   "metadata": {},
   "source": [
    "## Uploading data to Google Storage"
   ]
  },
  {
   "cell_type": "code",
   "execution_count": 1,
   "metadata": {},
   "outputs": [],
   "source": [
    "import os\n",
    "\n",
    "os.environ[\"BUCKET_NAME\"] = \"founder-classifier-storage\""
   ]
  },
  {
   "cell_type": "code",
   "execution_count": 6,
   "metadata": {},
   "outputs": [
    {
     "name": "stderr",
     "output_type": "stream",
     "text": [
      "Creating gs://founder-classifier-storage/...\n"
     ]
    }
   ],
   "source": [
    "## create the bucket\n",
    "\n",
    "!gsutil mb -l us gs://%BUCKET_NAME%"
   ]
  },
  {
   "cell_type": "code",
   "execution_count": 39,
   "metadata": {
    "collapsed": true
   },
   "outputs": [
    {
     "name": "stderr",
     "output_type": "stream",
     "text": [
      "Copying file://..\\data\\train.json [Content-Type=application/json]...\n",
      "/ [0 files][    0.0 B/  4.5 MiB]                                                \n",
      "/ [0 files][263.4 KiB/  4.5 MiB]                                                \n",
      "-\n",
      "\\\n",
      "\\ [0 files][  1.0 MiB/  4.5 MiB]                                                \n",
      "|\n",
      "| [0 files][  2.1 MiB/  4.5 MiB]                                                \n",
      "/\n",
      "-\n",
      "- [0 files][  3.1 MiB/  4.5 MiB]                                                \n",
      "\\\n",
      "\\ [0 files][  4.1 MiB/  4.5 MiB]                                                \n",
      "|\n",
      "BadRequestException: 400 Invalid bucket name: '%BUCKET_NAME%'\n",
      "Copying file://..\\data\\test.json [Content-Type=application/json]...\n",
      "/ [0 files][    0.0 B/  1.1 MiB]                                                \n",
      "/ [0 files][263.4 KiB/  1.1 MiB]                                                \n",
      "-\n",
      "\\\n",
      "\\ [0 files][  1.1 MiB/  1.1 MiB]                                                \n",
      "BadRequestException: 400 Invalid bucket name: '%BUCKET_NAME%'\n"
     ]
    }
   ],
   "source": [
    "## upload the training data\n",
    "!gsutil cp ../data/train.json gs://%BUCKET_NAME%\n",
    "\n",
    "## upload the test data\n",
    "!gsutil cp ../data/test.json gs://%BUCKET_NAME%"
   ]
  },
  {
   "cell_type": "markdown",
   "metadata": {},
   "source": [
    "## Download from Google Cloud Storage"
   ]
  },
  {
   "cell_type": "code",
   "execution_count": 16,
   "metadata": {},
   "outputs": [],
   "source": [
    "from google.cloud import storage\n",
    "client = storage.Client()\n",
    "# https://console.cloud.google.com/storage/browser/[bucket-id]/\n",
    "bucket = client.get_bucket('founder-classifier-storage')\n",
    "# Then do other things...\n",
    "blob = bucket.get_blob('train.json')\n",
    "\n",
    "blob.download_to_filename('./data/train.json')"
   ]
  },
  {
   "cell_type": "code",
   "execution_count": 3,
   "metadata": {},
   "outputs": [],
   "source": [
    "os.environ[\"GOOGLE_APPLICATION_CREDENTIALS\"] = \"My First Project-46b011a72a1d.json\""
   ]
  },
  {
   "cell_type": "markdown",
   "metadata": {},
   "source": [
    "## Launch job"
   ]
  },
  {
   "cell_type": "code",
   "execution_count": 26,
   "metadata": {},
   "outputs": [
    {
     "name": "stdout",
     "output_type": "stream",
     "text": [
      "jobId: TEST\n",
      "state: QUEUED\n"
     ]
    },
    {
     "name": "stderr",
     "output_type": "stream",
     "text": [
      "Job [TEST] submitted successfully.\n",
      "Your job is still active. You may view the status of your job with the command\n",
      "\n",
      "  $ gcloud ai-platform jobs describe TEST\n",
      "\n",
      "or continue streaming the logs with the command\n",
      "\n",
      "  $ gcloud ai-platform jobs stream-logs TEST\n"
     ]
    }
   ],
   "source": [
    "!gcloud ai-platform jobs submit training TEST \\\n",
    "--region europe-west1 \\\n",
    "--job-dir gs://founder-classifier-storage \\\n",
    "--package-path trainer/ \\\n",
    "--module-name trainer.task \\\n",
    "--"
   ]
  },
  {
   "cell_type": "code",
   "execution_count": null,
   "metadata": {},
   "outputs": [],
   "source": [
    "## https://github.com/tensorflow/models/tree/master/tutorials/image/cifar10_estimator\n",
    "\n",
    "'''gcloud ml-engine jobs submit training cifarmultigpu \\\n",
    "    --runtime-version 1.2 \\\n",
    "    --job-dir=$MY_BUCKET/model_dirs/cifarmultigpu \\\n",
    "    --config cifar10_estimator/cmle_config.yaml \\\n",
    "    --package-path cifar10_estimator/ \\\n",
    "    --module-name cifar10_estimator.cifar10_main \\\n",
    "    -- \\\n",
    "    --data-dir=$MY_BUCKET/cifar-10-data \\\n",
    "    --num-gpus=4 \\\n",
    "    --train-steps=1000'''"
   ]
  },
  {
   "cell_type": "code",
   "execution_count": null,
   "metadata": {},
   "outputs": [],
   "source": [
    "! gcloud ai-platform jobs stream-logs TEST"
   ]
  },
  {
   "cell_type": "markdown",
   "metadata": {},
   "source": [
    "## train locally"
   ]
  },
  {
   "cell_type": "code",
   "execution_count": 34,
   "metadata": {},
   "outputs": [],
   "source": [
    "import os\n",
    "\n",
    "os.environ['MODULE_NAME'] =  'founder-classifier/trainer.task'\n",
    "os.environ['JOB_DIR'] = 'output'\n",
    "os.environ['PACKAGE_PATH'] = 'founder-classifier/trainer'"
   ]
  },
  {
   "cell_type": "code",
   "execution_count": null,
   "metadata": {},
   "outputs": [],
   "source": [
    "gcloud ai-platform jobs submit training founder-classifier-test \\\n",
    "  --staging-bucket gs://founder-classifier-storage \\\n",
    "  --module-name trainer.task \\\n",
    "  --package-path ./trainer \\\n",
    "  --runtime-version 1.14 \\\n",
    "  --region europe-west1 \\\n",
    "  --python-version 3.5\n",
    "  -- \\\n",
    "  --data-folder gs://founder-classifier-storage \\\n",
    "  --batch-size 32 \\\n",
    "  --learning-rate 0.001 \\\n",
    "  --steps 1000 "
   ]
  },
  {
   "cell_type": "code",
   "execution_count": 38,
   "metadata": {},
   "outputs": [
    {
     "name": "stderr",
     "output_type": "stream",
     "text": [
      "C:\\Users\\Aymeric\\Miniconda3\\python.exe: Error while finding module specification for 'founder-classifier/trainer.task' (ModuleNotFoundError: No module named 'founder-classifier/trainer')\n"
     ]
    }
   ],
   "source": [
    "! gcloud ai-platform local train \\\n",
    "--module-name=%MODULE_NAME% \\\n",
    "--job-dir=%JOB_DIR% \\\n",
    "--package-path=%PACKAGE_PATH%"
   ]
  },
  {
   "cell_type": "markdown",
   "metadata": {},
   "source": [
    "locally"
   ]
  },
  {
   "cell_type": "code",
   "execution_count": 3,
   "metadata": {
    "scrolled": true
   },
   "outputs": [
    {
     "name": "stderr",
     "output_type": "stream",
     "text": [
      "C:\\Users\\Aymeric\\Miniconda3\\python.exe: Error while finding module specification for 'trainer.task' (ModuleNotFoundError: No module named 'trainer')\n"
     ]
    }
   ],
   "source": [
    "gcloud ai-platform local train --module-name=trainer.task --package-path=trainer -- --data-folder=gs://founder-classifier-storage"
   ]
  },
  {
   "cell_type": "markdown",
   "metadata": {},
   "source": [
    "cloud"
   ]
  },
  {
   "cell_type": "code",
   "execution_count": null,
   "metadata": {},
   "outputs": [],
   "source": [
    "gcloud ai-platform jobs submit training founder_classifier_training_job_gpu --staging-bucket gs://founder-classifier-storage --module-name trainer.task --package-path ./trainer --runtime-version 1.14 --region europe-west1 --scale-tier basic-gpu -- --data-folder gs://founder-classifier-storage --batch-size 32  --learning-rate 0.001 --steps 1000 "
   ]
  },
  {
   "cell_type": "code",
   "execution_count": 37,
   "metadata": {
    "scrolled": true
   },
   "outputs": [
    {
     "ename": "SyntaxError",
     "evalue": "can't assign to operator (<ipython-input-37-f6f55a258210>, line 2)",
     "output_type": "error",
     "traceback": [
      "\u001b[1;36m  File \u001b[1;32m\"<ipython-input-37-f6f55a258210>\"\u001b[1;36m, line \u001b[1;32m2\u001b[0m\n\u001b[1;33m    --module-name=get_ipython().run_line_magic('MODULE_NAME%', '')\u001b[0m\n\u001b[1;37m                                                                  ^\u001b[0m\n\u001b[1;31mSyntaxError\u001b[0m\u001b[1;31m:\u001b[0m can't assign to operator\n"
     ]
    }
   ],
   "source": [
    "gcloud ai-platform local train --module-name=trainer.task --package-path=trainer"
   ]
  },
  {
   "cell_type": "markdown",
   "metadata": {},
   "source": [
    "## Deploy the model"
   ]
  },
  {
   "cell_type": "markdown",
   "metadata": {},
   "source": [
    "https://medium.com/searce/creating-deep-learning-models-training-and-deploying-it-on-google-cloud-ml-engine-using-9a4ed6a84076"
   ]
  },
  {
   "cell_type": "markdown",
   "metadata": {},
   "source": [
    "https://cloud.google.com/sdk/gcloud/reference/ai-platform/models/create"
   ]
  },
  {
   "cell_type": "code",
   "execution_count": null,
   "metadata": {},
   "outputs": [],
   "source": [
    "gcloud ai-platform models create founder_classifier_model ^\n",
    "--description \"Model that classifies a picture of Jeff Bezos, Bill Gates or Larry Page\" ^\n",
    "--regions europe-west1"
   ]
  },
  {
   "cell_type": "code",
   "execution_count": null,
   "metadata": {},
   "outputs": [],
   "source": [
    "gcloud ai-platform versions create \"version_2\" --model founder_classifier_model ^\n",
    "--origin gs://founder-classifier-storage/model/1570723003 ^\n",
    "--runtime-version 1.13 ^\n",
    "--python-version 3.5"
   ]
  },
  {
   "cell_type": "code",
   "execution_count": null,
   "metadata": {},
   "outputs": [],
   "source": [
    "gcloud ai-platform predict --model founder_classifier_model --version version_2 --json-instances image.json"
   ]
  },
  {
   "cell_type": "code",
   "execution_count": 34,
   "metadata": {},
   "outputs": [],
   "source": [
    "from utils import from_image_to_json\n",
    "\n",
    "from_image_to_json('jeff_bezos6.jpg')"
   ]
  }
 ],
 "metadata": {
  "kernelspec": {
   "display_name": "gcp",
   "language": "python",
   "name": "gcp"
  },
  "language_info": {
   "codemirror_mode": {
    "name": "ipython",
    "version": 3
   },
   "file_extension": ".py",
   "mimetype": "text/x-python",
   "name": "python",
   "nbconvert_exporter": "python",
   "pygments_lexer": "ipython3",
   "version": "3.6.9"
  }
 },
 "nbformat": 4,
 "nbformat_minor": 2
}
