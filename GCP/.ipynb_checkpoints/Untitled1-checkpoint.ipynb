{
 "cells": [
  {
   "cell_type": "code",
   "execution_count": null,
   "metadata": {},
   "outputs": [],
   "source": [
    "import cv2\n",
    "import json\n",
    "import numpy as np\n",
    "\n",
    "def from_image_to_json(image_directory):\n",
    "\n",
    "    image=cv2.imread(image_directory)\n",
    "    gray = cv2.cvtColor(image, cv2.COLOR_BGR2GRAY)\n",
    "    faceCascade = cv2.CascadeClassifier(cv2.data.haarcascades + \"haarcascade_frontalface_default.xml\")\n",
    "    faces = faceCascade.detectMultiScale(\n",
    "            gray,\n",
    "            scaleFactor=1.1,\n",
    "            minNeighbors=4,\n",
    "            minSize=(100, 100)\n",
    "    ) \n",
    "    \n",
    "    try:\n",
    "        if faces.shape[0]>1:\n",
    "            return print('too many faces on the picture')\n",
    "        \n",
    "    except:\n",
    "        return print('no face detected in the picture')\n",
    "        \n",
    "    for (x, y, w, h) in faces:\n",
    "        crop_img = gray[y:y+h, x:x+w]\n",
    "        resized_img=cv2.resize(crop_img,(28,28))\n",
    "        data=np.reshape((resized_img), (-1,28,28,1))\n",
    "        data_serializable=data.tolist()\n",
    "    with open('image.json', 'w') as f:\n",
    "        json.dump({'x' : data_serializable}, f)"
   ]
  }
 ],
 "metadata": {
  "kernelspec": {
   "display_name": "gcp",
   "language": "python",
   "name": "gcp"
  },
  "language_info": {
   "codemirror_mode": {
    "name": "ipython",
    "version": 3
   },
   "file_extension": ".py",
   "mimetype": "text/x-python",
   "name": "python",
   "nbconvert_exporter": "python",
   "pygments_lexer": "ipython3",
   "version": "3.6.9"
  }
 },
 "nbformat": 4,
 "nbformat_minor": 2
}
